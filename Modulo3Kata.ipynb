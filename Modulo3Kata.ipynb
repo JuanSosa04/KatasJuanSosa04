{
 "cells": [
  {
   "cell_type": "markdown",
   "metadata": {},
   "source": [
    "## Ejercicio - Escribir declaraciones if, else y elif"
   ]
  },
  {
   "cell_type": "code",
   "execution_count": 2,
   "metadata": {},
   "outputs": [
    {
     "name": "stdout",
     "output_type": "stream",
     "text": [
      "si estas despierto\n"
     ]
    }
   ],
   "source": [
    "despierto='si'\n",
    "\n",
    "if despierto=='si':\n",
    "    print('si estas despierto')"
   ]
  },
  {
   "cell_type": "code",
   "execution_count": 3,
   "metadata": {},
   "outputs": [
    {
     "name": "stdout",
     "output_type": "stream",
     "text": [
      "No estas despierto pero tienes hambre\n"
     ]
    }
   ],
   "source": [
    "despierto='no'\n",
    "hambriento='si'\n",
    "\n",
    "if despierto=='si':\n",
    "    print('si estas despierto')\n",
    "    if hambriento=='no':\n",
    "        print('Estas despierto y no tienes hambre')\n",
    "    else:\n",
    "        print('Estas despierto y tienes hambre')\n",
    "elif despierto=='no':\n",
    "    if hambriento=='no':\n",
    "        print('No estas despierto y no tienes hambre')\n",
    "    else:\n",
    "        print('No estas despierto pero tienes hambre')\n",
    "else:\n",
    "    print('No estas seguro si estas o no despierto')"
   ]
  },
  {
   "cell_type": "markdown",
   "metadata": {},
   "source": [
    "Para este ejercicio, escribirás una lógica condicional que imprima una advertencia si un asteroide se acerca a la Tierra demasiado rápido. La velocidad del asteroide varía dependiendo de lo cerca que esté del sol, y cualquier velocidad superior a 25 kilómetros por segundo (km/s) merece una advertencia.\n",
    "\n",
    "Un asteroide se acerca, y viaja a una velocidad de 49 km/s.\n"
   ]
  },
  {
   "cell_type": "code",
   "execution_count": 13,
   "metadata": {},
   "outputs": [
    {
     "name": "stdout",
     "output_type": "stream",
     "text": [
      "ADVERTENCIA : Un asteroide se acerca a la tierra a una velocidad superior a los 25 km/s\n"
     ]
    }
   ],
   "source": [
    "velocidad=49\n",
    "\n",
    "if velocidad>25:\n",
    "    print('ADVERTENCIA : Un asteroide se acerca a la tierra a una velocidad superior a los 25 km/s')\n",
    "else:\n",
    "    print('Un asteroide se acerca a la tierra a una velocidad inferior a los 25 km/s')"
   ]
  },
  {
   "cell_type": "markdown",
   "metadata": {},
   "source": [
    "Si un asteroide entra en la atmósfera de la Tierra a una velocidad mayor o igual a 20 km/s, a veces produce un rayo de luz que se puede ver desde la Tierra. Escribe la lógica condicional que usa declaraciones if, else, y elif para alertar a las personas de todo el mundo que deben buscar un asteroide en el cielo. ¡Hay uno que se dirige a la tierra ahora a una velocidad de 19 km/s!"
   ]
  },
  {
   "cell_type": "code",
   "execution_count": 15,
   "metadata": {},
   "outputs": [
    {
     "name": "stdout",
     "output_type": "stream",
     "text": [
      "Hay un asteroide en el cielo pero no lo veran porque su velocidad es menor a 20 km/s y no producira una luz visible desde la Tierra\n"
     ]
    }
   ],
   "source": [
    "velocidadMinRayoLuz=20\n",
    "velocidadAsteroide=19\n",
    "if velocidadAsteroide>=velocidadMinRayoLuz:\n",
    "    print('Hay un asteroide en el cielo a una velocidad igual o mayor a 20 km/s por tanto podras ver el rayo de luz desde tu casa')\n",
    "else:\n",
    "    print('Hay un asteroide en el cielo pero no lo veran porque su velocidad es menor a 20 km/s y no producira una luz visible desde la Tierra')"
   ]
  },
  {
   "cell_type": "markdown",
   "metadata": {},
   "source": [
    "En este ejercicio, aprenderás información más matizada sobre cuándo los asteroides representan un peligro para la Tierra, y utilizarás esa información para mejorar nuestro sistema de advertencia. "
   ]
  },
  {
   "cell_type": "code",
   "execution_count": 20,
   "metadata": {},
   "outputs": [
    {
     "name": "stdout",
     "output_type": "stream",
     "text": [
      "Un asteroide de 28 metros cubicos se acerca a la Tierra a una velocidad de 10, por su tamaño impactara en la superficie causando mucho daño\n"
     ]
    }
   ],
   "source": [
    "ast=28    \n",
    "vel=10\n",
    "\n",
    "if ast<25:\n",
    "    if vel>25:\n",
    "        print('ADVERTENCIA : Un asteroide de ' +str(ast)+ ' metros cubicos se acerca a la Tierra a una velocidad de '+str(vel)+', por su tamaño se quemara antes de llegar a la superficie, sin embargo, su velocidad es alta')\n",
    "    elif vel>20:\n",
    "        print('Un asteroide de ' +str(ast)+ ' metros cubicos se acerca a la Tierra a una velocidad de '+str(vel)+', por su tamaño se quemara antes de llegar a la superficie, por su velocidad, podran ver un rayo de luz')\n",
    "    else:\n",
    "        print('Un asteroide de ' +str(ast)+ ' metros cubicos se acerca a la Tierra a una velocidad de '+str(vel)+', por su tamaño se quemara antes de llegar a la superficie sin producir nada')\n",
    "elif ast>25 and ast<1000:\n",
    "    if vel>25:\n",
    "        print('ADVERTENCIA : Un asteroide de ' +str(ast)+ ' metros cubicos se acerca a la Tierra a una velocidad de '+str(vel)+', por su tamaño impactara en la superficie causando mucho daño, su velocidad es alta')\n",
    "    elif vel>20:\n",
    "        print('Un asteroide de ' +str(ast)+ ' metros cubicos se acerca a la Tierra a una velocidad de '+str(vel)+', por su tamaño impactara en la superficie causando mucho daño, por su velocidad, podran ver un rayo de luz antes de que impacte')\n",
    "    else:\n",
    "        print('Un asteroide de ' +str(ast)+ ' metros cubicos se acerca a la Tierra a una velocidad de '+str(vel)+', por su tamaño impactara en la superficie causando mucho daño')\n",
    "else:           ## no se define el caso de que sea igual a 25 metros\n",
    "    print('Un asteroide de ' +str(ast)+ ' metros cubicos se acerca a la Tierra a una velocidad de '+str(vel)+', no se sabe que pasara')"
   ]
  }
 ],
 "metadata": {
  "interpreter": {
   "hash": "8d86ee87417b2a648cb94a5af1775324b33ae4757813b92132e70231328e4a22"
  },
  "kernelspec": {
   "display_name": "Python 3.10.2 64-bit (windows store)",
   "language": "python",
   "name": "python3"
  },
  "language_info": {
   "codemirror_mode": {
    "name": "ipython",
    "version": 3
   },
   "file_extension": ".py",
   "mimetype": "text/x-python",
   "name": "python",
   "nbconvert_exporter": "python",
   "pygments_lexer": "ipython3",
   "version": "3.10.2"
  },
  "orig_nbformat": 4
 },
 "nbformat": 4,
 "nbformat_minor": 2
}
