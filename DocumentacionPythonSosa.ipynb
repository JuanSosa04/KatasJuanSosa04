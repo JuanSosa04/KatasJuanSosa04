{
 "cells": [
  {
   "cell_type": "markdown",
   "metadata": {},
   "source": [
    "# Ejercicio: Uso de funciones en Python\n",
    "## Ejercicio 1: Trabajar con argumentos en funciones"
   ]
  },
  {
   "cell_type": "markdown",
   "metadata": {},
   "source": [
    "Comienza por crear una función que necesite tres lecturas de combustible y devuelva un informe:"
   ]
  },
  {
   "cell_type": "code",
   "execution_count": 17,
   "metadata": {},
   "outputs": [],
   "source": [
    "def combustible(tank1,tank2,tank3):\n",
    "    avg= (tank1+tank2+tank3)/3\n",
    "    return f\"\"\"Fuel Report:\n",
    "    Average: {avg}\n",
    "    Tank 1: {tank1}\n",
    "    Tank 2: {tank2}\n",
    "    Tank 3: {tank3}\"\"\""
   ]
  },
  {
   "cell_type": "code",
   "execution_count": 18,
   "metadata": {},
   "outputs": [
    {
     "name": "stdout",
     "output_type": "stream",
     "text": [
      "Fuel Report:\n",
      "    Average: 209.0\n",
      "    Tank 1: 100\n",
      "    Tank 2: 212\n",
      "    Tank 3: 315\n"
     ]
    }
   ],
   "source": [
    "print(combustible(100,212,315))"
   ]
  },
  {
   "cell_type": "code",
   "execution_count": 23,
   "metadata": {},
   "outputs": [],
   "source": [
    "def average(values):            ##Si utilizamos valores individuales sale error por integrers\n",
    "    avg= sum(values)/len(values)\n",
    "    return avg"
   ]
  },
  {
   "cell_type": "code",
   "execution_count": 24,
   "metadata": {},
   "outputs": [
    {
     "name": "stdout",
     "output_type": "stream",
     "text": [
      "82.0\n"
     ]
    }
   ],
   "source": [
    "print(average([80, 85, 81]))"
   ]
  },
  {
   "cell_type": "code",
   "execution_count": 25,
   "metadata": {},
   "outputs": [],
   "source": [
    "def combustible(tank1,tank2,tank3):\n",
    "    return f\"\"\"Fuel Report:\n",
    "    Average: {average([tank1,tank2,tank3])}\n",
    "    Tank 1: {tank1}\n",
    "    Tank 2: {tank2}\n",
    "    Tank 3: {tank3}\"\"\""
   ]
  },
  {
   "cell_type": "code",
   "execution_count": 27,
   "metadata": {},
   "outputs": [
    {
     "name": "stdout",
     "output_type": "stream",
     "text": [
      "Fuel Report:\n",
      "    Average: 78.0\n",
      "    Tank 1: 88\n",
      "    Tank 2: 76\n",
      "    Tank 3: 70\n"
     ]
    }
   ],
   "source": [
    "print(combustible(88, 76, 70))"
   ]
  },
  {
   "cell_type": "markdown",
   "metadata": {},
   "source": [
    "# Ejercicio 2: Trabajo con argumentos de palabra clave\n",
    "## Ejercicio : Trabajar con argumentos de palabras clave en funciones"
   ]
  },
  {
   "cell_type": "markdown",
   "metadata": {},
   "source": [
    "En este ejercicio, construirás un informe de cohete que requiere varias piezas de información, como el tiempo hasta el destino, el combustible a la izquierda y el nombre del destino. Comienza por crear una función que creará un informe preciso de la misión:"
   ]
  },
  {
   "cell_type": "code",
   "execution_count": 4,
   "metadata": {},
   "outputs": [
    {
     "name": "stdout",
     "output_type": "stream",
     "text": [
      "Rocket report:\n",
      "    Name of destination: Moon\n",
      "    Time until arrival: 14\n",
      "    Gas in left tank: 200000\n",
      "    Gas in Right tank: 300000\n",
      "    Total gas left: 500000\n",
      "    \n"
     ]
    }
   ],
   "source": [
    "def rocket_report(time,gas_left,gas_right,name):\n",
    "    return f\"\"\"Rocket report:\n",
    "    Name of destination: {name}\n",
    "    Time until arrival: {time}\n",
    "    Gas in left tank: {gas_left}\n",
    "    Gas in Right tank: {gas_right}\n",
    "    Total gas left: {gas_left+gas_right}\n",
    "    \"\"\"\n",
    "print(rocket_report(14,200000,300000,\"Moon\"))"
   ]
  },
  {
   "cell_type": "markdown",
   "metadata": {},
   "source": [
    "La función es problemática porque no se puede adaptar para minutos adicionales o tanques adicionales de combustible. Hazlo más flexible permitiendo cualquier número de pasos basados en el tiempo y cualquier número de tanques. En lugar de usar *args y **kwargs, aprovecha el hecho de que puedes usar cualquier nombre que desees. Asegurate que la función sea más legible mediante el uso de nombres de variables que están asociados con las entradas, como *minutes y **fuel_reservoirs:"
   ]
  },
  {
   "cell_type": "code",
   "execution_count": 7,
   "metadata": {},
   "outputs": [
    {
     "name": "stdout",
     "output_type": "stream",
     "text": [
      "Rocket report:\n",
      "    Name of destination: Moon\n",
      "    Time until arrival: (10,)\n",
      "    Total gas left: 500000\n",
      "    \n"
     ]
    }
   ],
   "source": [
    "def rocket_report(name,*minutes,**fuel_reservoirs):\n",
    "    return f\"\"\"Rocket report:\n",
    "    Name of destination: {name}\n",
    "    Time until arrival: {minutes}\n",
    "    Total gas left: {sum(fuel_reservoirs.values())}\n",
    "    \"\"\"\n",
    "print(rocket_report(\"Moon\", 10, main=300000, external=200000))"
   ]
  },
  {
   "cell_type": "markdown",
   "metadata": {},
   "source": [
    "Debido a que el combustible que queda en los tanques es específico de cada tanque, actualiza la función para usar el nombre de cada tanque en el informe:"
   ]
  },
  {
   "cell_type": "code",
   "execution_count": 10,
   "metadata": {},
   "outputs": [
    {
     "name": "stdout",
     "output_type": "stream",
     "text": [
      "Rocket report:\n",
      "    Name of destination: Moon\n",
      "    Time until arrival: (10,)\n",
      "    Total gas left: 500000\n",
      "    main tank 300000 gallons left\n",
      "external tank 200000 gallons left\n",
      "\n"
     ]
    }
   ],
   "source": [
    "def rocket_report(name,*minutes,**fuel_reservoirs):\n",
    "    a= f\"\"\"Rocket report:\n",
    "    Name of destination: {name}\n",
    "    Time until arrival: {minutes}\n",
    "    Total gas left: {sum(fuel_reservoirs.values())}\n",
    "    \"\"\"\n",
    "    for tanks, cantidad in fuel_reservoirs.items():\n",
    "        a += f\"{tanks} tank {cantidad} gallons left\\n\"\n",
    "    return a\n",
    "        \n",
    "print(rocket_report(\"Moon\", 10, main=300000, external=200000))"
   ]
  }
 ],
 "metadata": {
  "interpreter": {
   "hash": "8d86ee87417b2a648cb94a5af1775324b33ae4757813b92132e70231328e4a22"
  },
  "kernelspec": {
   "display_name": "Python 3.10.2 64-bit (windows store)",
   "language": "python",
   "name": "python3"
  },
  "language_info": {
   "codemirror_mode": {
    "name": "ipython",
    "version": 3
   },
   "file_extension": ".py",
   "mimetype": "text/x-python",
   "name": "python",
   "nbconvert_exporter": "python",
   "pygments_lexer": "ipython3",
   "version": "3.10.2"
  },
  "orig_nbformat": 4
 },
 "nbformat": 4,
 "nbformat_minor": 2
}
